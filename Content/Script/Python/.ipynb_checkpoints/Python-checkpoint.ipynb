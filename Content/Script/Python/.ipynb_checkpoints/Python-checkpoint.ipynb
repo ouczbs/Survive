{
 "cells": [
  {
   "cell_type": "code",
   "execution_count": 10,
   "metadata": {},
   "outputs": [
    {
     "data": {
      "text/plain": [
       "'E:\\\\ouczbs\\\\Survive\\\\Content\\\\Script\\\\Python'"
      ]
     },
     "execution_count": 10,
     "metadata": {},
     "output_type": "execute_result"
    }
   ],
   "source": [
    "import os \n",
    "os.getcwd()"
   ]
  },
  {
   "cell_type": "code",
   "execution_count": 11,
   "metadata": {},
   "outputs": [],
   "source": [
    "root_dir = \"E:\\\\ouczbs\\\\Survive\\\\Content\\\\\""
   ]
  },
  {
   "cell_type": "code",
   "execution_count": 127,
   "metadata": {},
   "outputs": [],
   "source": [
    "import os\n",
    "import re\n",
    "module_dir_list = [\"GameCore\" , \"GameManager\" , \"GamePlay\"  ,\"GameWorld\" ]\n",
    "module_file_list = [\"GC.lua\" , \"GM.lua\" , \"GP.lua\"  ,\"GW.lua\" ]\n",
    "def CheckFileRequire(module_file , require_list):\n",
    "    require_dict = {}\n",
    "    write_lines = []\n",
    "    with open(module_file , \"r\") as f:\n",
    "        lines = [line for line in f.readlines() if \"require\" in line]\n",
    "    for line in lines:\n",
    "        res = re.search('require +\"([_A-Za-z0-9\\.]+)\"' , line)\n",
    "        if res:require_dict[res.group(1)] = True\n",
    "    for require in require_list:\n",
    "        if require not in require_dict:\n",
    "            write_lines.append('require \"{0}\"'.format(require))\n",
    "    with open(module_file , \"a+\") as f:\n",
    "        f.write(\"\\n\".join(write_lines))\n",
    "def CheckRequire(root_dir , module_file , require_name , module_name):\n",
    "    require_list = []\n",
    "    dir_list = []\n",
    "    module_path = \"{0}\\\\{1}\".format(root_dir, module_file)\n",
    "    for fi in os.listdir(root_dir):\n",
    "        if os.path.isdir(root_dir + \"\\\\\" + fi):\n",
    "            dir_list.append(fi)\n",
    "            require_list.append(\"{0}.{1}.{1}_Module\".format(require_name , fi))\n",
    "        elif \"_Module\" not in fi and fi != module_file:\n",
    "            require_list.append(\"{0}.{1}\".format(require_name , fi[:-4]))\n",
    "    if not os.path.exists(module_path):\n",
    "        with open(module_path , \"w+\") as f:\n",
    "            lines = \"\\n%s = {}\\n\\n\" % module_name\n",
    "            if module_name == \"GA\" and module_file != module_name:\n",
    "                lines = \"\\n\\n\"\n",
    "            f.write(lines)\n",
    "    print(module_path , require_list , \"\\n\\n\\n\")\n",
    "    CheckFileRequire(module_path , require_list)\n",
    "    for fi in dir_list:\n",
    "        CheckRequire(\"{0}\\\\{1}\".format(root_dir, fi),\"{0}_Module.lua\".format(fi) , \"{0}.{1}\".format(require_name, fi) , \"{0}.{1}\".format(module_name, fi))\n",
    "def AutoGenLuaModule(root_dir):\n",
    "    for module_dir,module_file in zip(module_dir_list,module_file_list):\n",
    "        CheckRequire(root_dir + \"Script\\\\\" + module_dir , module_file , module_dir , \"GA\")"
   ]
  },
  {
   "cell_type": "code",
   "execution_count": 128,
   "metadata": {},
   "outputs": [
    {
     "name": "stdout",
     "output_type": "stream",
     "text": [
      "E:\\ouczbs\\Survive\\Content\\Script\\GameCore\\GC.lua ['GameCore.Core_Module', 'GameCore.Entity_Module', 'GameCore.Input_Module', 'GameCore.Manage_Module', 'GameCore.Math_Module', 'GameCore.Utility_Module'] \n",
      "\n",
      "\n",
      "\n",
      "E:\\ouczbs\\Survive\\Content\\Script\\GameCore\\Core\\Core_Module.lua ['GameCore.Core.Activity', 'GameCore.Core.Attempt', 'GameCore.Core.Condition', 'GameCore.Core.Event', 'GameCore.Core.Functions', 'GameCore.Core.Message', 'GameCore.Core.Value', 'GameCore.Core.Var'] \n",
      "\n",
      "\n",
      "\n",
      "E:\\ouczbs\\Survive\\Content\\Script\\GameCore\\Entity\\Entity_Module.lua ['GameCore.Entity.EntityEventHandle'] \n",
      "\n",
      "\n",
      "\n",
      "E:\\ouczbs\\Survive\\Content\\Script\\GameCore\\Input\\Input_Module.lua ['GameCore.Input.Axis', 'GameCore.Input.Button', 'GameCore.Input.EButtonState'] \n",
      "\n",
      "\n",
      "\n",
      "E:\\ouczbs\\Survive\\Content\\Script\\GameCore\\Manage\\Manage_Module.lua ['GameCore.Manage.BaseManage', 'GameCore.Manage.EventBus'] \n",
      "\n",
      "\n",
      "\n",
      "E:\\ouczbs\\Survive\\Content\\Script\\GameCore\\Math\\Math_Module.lua ['GameCore.Math.Vector2', 'GameCore.Math.Vector3'] \n",
      "\n",
      "\n",
      "\n",
      "E:\\ouczbs\\Survive\\Content\\Script\\GameCore\\Utility\\Utility_Module.lua ['GameCore.Utility.Promise', 'GameCore.Utility.TableUtil'] \n",
      "\n",
      "\n",
      "\n",
      "E:\\ouczbs\\Survive\\Content\\Script\\GameManager\\GM.lua [] \n",
      "\n",
      "\n",
      "\n",
      "E:\\ouczbs\\Survive\\Content\\Script\\GamePlay\\GP.lua ['GamePlay.Character_Module', 'GamePlay.Gen_Module', 'GamePlay.Login_Module', 'GamePlay.Manager_Module', 'GamePlay.Object_Module', 'GamePlay.Player_Module', 'GamePlay.Weapon_Module'] \n",
      "\n",
      "\n",
      "\n",
      "E:\\ouczbs\\Survive\\Content\\Script\\GamePlay\\Character\\Character_Module.lua [] \n",
      "\n",
      "\n",
      "\n",
      "E:\\ouczbs\\Survive\\Content\\Script\\GamePlay\\Gen\\Gen_Module.lua ['GamePlay.Gen.BlueprintTypeGen', 'GamePlay.Gen.BpClass'] \n",
      "\n",
      "\n",
      "\n",
      "E:\\ouczbs\\Survive\\Content\\Script\\GamePlay\\Login\\Login_Module.lua ['GamePlay.Login.Account'] \n",
      "\n",
      "\n",
      "\n",
      "E:\\ouczbs\\Survive\\Content\\Script\\GamePlay\\Manager\\Manager_Module.lua ['GamePlay.Manager.InputManager', 'GamePlay.Manager.UIManager'] \n",
      "\n",
      "\n",
      "\n",
      "E:\\ouczbs\\Survive\\Content\\Script\\GamePlay\\Object\\Object_Module.lua ['GamePlay.Object.ActorObject'] \n",
      "\n",
      "\n",
      "\n",
      "E:\\ouczbs\\Survive\\Content\\Script\\GamePlay\\Player\\Player_Module.lua ['GamePlay.Player.PlayerEntityHandle', 'GamePlay.Player.PlayerInputHandle', 'GamePlay.Player.PlayerNet'] \n",
      "\n",
      "\n",
      "\n",
      "E:\\ouczbs\\Survive\\Content\\Script\\GamePlay\\Weapon\\Weapon_Module.lua ['GamePlay.Weapon.WeaponEventHandle'] \n",
      "\n",
      "\n",
      "\n",
      "E:\\ouczbs\\Survive\\Content\\Script\\GameWorld\\GW.lua ['GameWorld.Character_Module', 'GameWorld.Manager_Module'] \n",
      "\n",
      "\n",
      "\n",
      "E:\\ouczbs\\Survive\\Content\\Script\\GameWorld\\Character\\Character_Module.lua ['GameWorld.Character.ALS_Character', 'GameWorld.Character.BaseCharacter', 'GameWorld.Character.CharacterAnim', 'GameWorld.Character.CharacterAnimIK', 'GameWorld.Character.CharacterControl', 'GameWorld.Character.PlayCharacter'] \n",
      "\n",
      "\n",
      "\n",
      "E:\\ouczbs\\Survive\\Content\\Script\\GameWorld\\Manager\\Manager_Module.lua ['GameWorld.Manager.LuaManager', 'GameWorld.Manager.MessageManager'] \n",
      "\n",
      "\n",
      "\n"
     ]
    }
   ],
   "source": [
    "AutoGenLuaModule(root_dir)"
   ]
  },
  {
   "cell_type": "code",
   "execution_count": 124,
   "metadata": {},
   "outputs": [],
   "source": [
    "def DelModule(root_dir):\n",
    "    for module_dir,module_file in zip(module_dir_list,module_file_list):\n",
    "        CheckDModule(root_dir + \"Script\\\\\" + module_dir , module_file , module_dir , \"GA\")\n",
    "def CheckDModule(root_dir , module_file , require_name , module_name):\n",
    "    dir_list = []\n",
    "    module_path = \"{0}\\\\{1}\".format(root_dir, module_file)\n",
    "    for fi in os.listdir(root_dir):\n",
    "        if os.path.isdir(root_dir + \"\\\\\" + fi):\n",
    "            dir_list.append(fi)\n",
    "    os.remove(module_path)\n",
    "    for fi in dir_list:\n",
    "        CheckDModule(\"{0}\\\\{1}\".format(root_dir, fi),\"{0}_Module.lua\".format(fi) , \"{0}.{1}\".format(require_name, fi) , \"{0}.{1}\".format(module_name, fi))"
   ]
  },
  {
   "cell_type": "code",
   "execution_count": null,
   "metadata": {},
   "outputs": [],
   "source": []
  }
 ],
 "metadata": {
  "kernelspec": {
   "display_name": "Python 3",
   "language": "python",
   "name": "python3"
  },
  "language_info": {
   "codemirror_mode": {
    "name": "ipython",
    "version": 3
   },
   "file_extension": ".py",
   "mimetype": "text/x-python",
   "name": "python",
   "nbconvert_exporter": "python",
   "pygments_lexer": "ipython3",
   "version": "3.7.3"
  }
 },
 "nbformat": 4,
 "nbformat_minor": 2
}
